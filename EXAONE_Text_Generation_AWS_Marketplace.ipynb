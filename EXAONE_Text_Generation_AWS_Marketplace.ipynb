{
 "cells": [
  {
   "cell_type": "code",
   "execution_count": null,
   "id": "d4ac23eb",
   "metadata": {},
   "outputs": [],
   "source": [
    "from sagemaker import ModelPackage\n",
    "from sagemaker import get_execution_role\n",
    "import sagemaker\n",
    "import boto3\n",
    "import json\n",
    "\n",
    "role = get_execution_role()\n",
    "model_pack_arn = \"arn:aws:sagemaker:us-east-1:989792134670:model-package/exaone-3-0-7-8b-instruct-2024-09-03-23-46-14\"\n",
    "sagemaker_session = sagemaker.Session()\n",
    "smr_client = boto3.client(\"sagemaker-runtime\")\n",
    "\n",
    "model = ModelPackage(\n",
    "    role=role,\n",
    "    model_package_arn=model_pack_arn,\n",
    "    sagemaker_session=sagemaker_session\n",
    ")"
   ]
  },
  {
   "cell_type": "code",
   "execution_count": null,
   "id": "0116135e",
   "metadata": {},
   "outputs": [],
   "source": [
    "import time\n",
    "\n",
    "ts = time.strftime(\"%Y-%m-%d-%H-%M-%S\", time.gmtime())\n",
    "sm_model_name = f\"exaone-3-0-7-8b-instruct-{ts}\"\n",
    "\n",
    "model.deploy(\n",
    "    initial_instance_count=1,\n",
    "    instance_type='ml.g5.4xlarge',\n",
    "    endpoint_name=sm_model_name,\n",
    "    model_data_download_timeout=600,\n",
    "    container_startup_health_check_timeout=300,\n",
    ")\n",
    "model.endpoint_name"
   ]
  },
  {
   "cell_type": "code",
   "execution_count": null,
   "id": "23bbd9c4",
   "metadata": {},
   "outputs": [],
   "source": [
    "input_text = \"When did the first world war end?\"\n",
    "\n",
    "payload = {\n",
    "    \"inputs\": [\n",
    "        {\"name\": \"text_input\", \"shape\": [1, 1], \"datatype\": \"BYTES\", \"data\": [input_text]},\n",
    "        {\"name\": \"max_tokens\", \"shape\": [1, 1], \"datatype\": \"INT32\", \"data\": [256]},\n",
    "        {\"name\": \"top_p\", \"shape\": [1, 1], \"datatype\": \"FP32\", \"data\": [0.9]},\n",
    "        {\"name\": \"temperature\", \"shape\": [1, 1], \"datatype\": \"FP32\", \"data\": [0.0]},\n",
    "        {\"name\": \"pad_id\", \"shape\": [1, 1], \"datatype\": \"INT32\", \"data\": [0]},\n",
    "        {\"name\": \"end_id\", \"shape\": [1, 1], \"datatype\": \"INT32\", \"data\": [2]},\n",
    "    ]\n",
    "}"
   ]
  },
  {
   "cell_type": "code",
   "execution_count": null,
   "id": "a80b6317",
   "metadata": {},
   "outputs": [],
   "source": [
    "%%time\n",
    "response = smr_client.invoke_endpoint(\n",
    "    EndpointName=sm_model_name,\n",
    "    Accept=\"application/json\",\n",
    "    ContentType=\"application/json\",\n",
    "    Body=json.dumps(payload)\n",
    ")\n",
    "data = response[\"Body\"].read()\n",
    "output = json.loads(data)"
   ]
  },
  {
   "cell_type": "code",
   "execution_count": null,
   "id": "9e3cc97b",
   "metadata": {},
   "outputs": [],
   "source": [
    "result = [res_list['data'] for res_list in output['outputs'] if res_list['name'] == 'text_output']\n",
    "result"
   ]
  },
  {
   "cell_type": "code",
   "execution_count": null,
   "id": "e3ca1484",
   "metadata": {},
   "outputs": [],
   "source": [
    "model.sagemaker_session.delete_endpoint(model.endpoint_name)\n",
    "model.sagemaker_session.delete_endpoint_config(model.endpoint_name)\n",
    "model.delete_model()"
   ]
  }
 ],
 "metadata": {
  "instance_type": "ml.g5.xlarge",
  "kernelspec": {
   "display_name": "conda_pytorch_p310",
   "language": "python",
   "name": "conda_pytorch_p310"
  },
  "language_info": {
   "codemirror_mode": {
    "name": "ipython",
    "version": 3
   },
   "file_extension": ".py",
   "mimetype": "text/x-python",
   "name": "python",
   "nbconvert_exporter": "python",
   "pygments_lexer": "ipython3",
   "version": "3.10.14"
  }
 },
 "nbformat": 4,
 "nbformat_minor": 5
}
